{
 "cells": [
  {
   "cell_type": "code",
   "execution_count": 18,
   "metadata": {},
   "outputs": [
    {
     "name": "stdout",
     "output_type": "stream",
     "text": [
      "CSE Department\n"
     ]
    }
   ],
   "source": [
    "RNo = 'AP19110010011' \n",
    "\n",
    "m = RNo[-3:]\n",
    "\n",
    "if m.startswith(\"01\"):\n",
    "    print(\"CSE Department\")\n",
    "elif m.startswith(\"11\"):\n",
    "    print(\"IT Department\")\n",
    "elif m.startswith(\"21\"):\n",
    "    print(\"ECE Department\")\n",
    "else:\n",
    "    print(\"Not an SRM Student\")    "
   ]
  }
 ],
 "metadata": {
  "kernelspec": {
   "display_name": "Python 3",
   "language": "python",
   "name": "python3"
  },
  "language_info": {
   "codemirror_mode": {
    "name": "ipython",
    "version": 3
   },
   "file_extension": ".py",
   "mimetype": "text/x-python",
   "name": "python",
   "nbconvert_exporter": "python",
   "pygments_lexer": "ipython3",
   "version": "3.8.5"
  }
 },
 "nbformat": 4,
 "nbformat_minor": 4
}
