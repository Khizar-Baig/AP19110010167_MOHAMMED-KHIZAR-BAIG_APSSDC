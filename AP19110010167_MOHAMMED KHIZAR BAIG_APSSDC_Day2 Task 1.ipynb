{
 "cells": [
  {
   "cell_type": "code",
   "execution_count": 1,
   "metadata": {},
   "outputs": [
    {
     "name": "stdout",
     "output_type": "stream",
     "text": [
      " Enter age: 25\n",
      " Eligible for vote \n"
     ]
    }
   ],
   "source": [
    "#Voting Eligibility Program\n",
    "\n",
    "m = int(input(\" Enter age: \"))\n",
    "\n",
    "if m >= 18 :\n",
    "    print(\" Eligible for vote \")\n",
    "else: \n",
    "    print(\" Not eligible for vote \")"
   ]
  },
  {
   "cell_type": "code",
   "execution_count": 2,
   "metadata": {},
   "outputs": [
    {
     "name": "stdout",
     "output_type": "stream",
     "text": [
      " Enter number 34\n",
      " Given number is positive \n"
     ]
    }
   ],
   "source": [
    "#Positive or Negative Number Program\n",
    "\n",
    "m = int(input(\" Enter number \"))\n",
    "\n",
    "if m >= 0 :\n",
    "    print(\" Given number is positive \")\n",
    "else:\n",
    "    print(\" Given number is negative\")"
   ]
  },
  {
   "cell_type": "code",
   "execution_count": 4,
   "metadata": {},
   "outputs": [
    {
     "name": "stdout",
     "output_type": "stream",
     "text": [
      " Enter number: 42\n",
      "The given number is even and not divisible by 4 \n"
     ]
    }
   ],
   "source": [
    "#Program to check the given number is even or odd if it's even check which is divisible by 4 or not\n",
    "\n",
    "m = int(input(\" Enter number: \"))\n",
    "\n",
    "if (m % 2) ==0 :\n",
    "    if (m % 4) ==0:\n",
    "        print(\"The given number is even and divisible by 4 \")\n",
    "    else:\n",
    "        print(\"The given number is even and not divisible by 4 \")\n",
    "else:\n",
    "    print(\"The given number is odd\")"
   ]
  },
  {
   "cell_type": "code",
   "execution_count": 13,
   "metadata": {},
   "outputs": [
    {
     "name": "stdout",
     "output_type": "stream",
     "text": [
      "Enter Marks Obtained in 4 Subjects:\n",
      "English 96\n",
      "Maths 85\n",
      "Mechanics 42\n",
      "Python 77\n",
      "The total obtained marks are: 300\n",
      "GRADE - PASS\n"
     ]
    }
   ],
   "source": [
    "#Program to print student grade based on persentage like Distinction,pass or fail\n",
    "\n",
    "print(\"Enter Marks Obtained in 4 Subjects:\")\n",
    "ENGLISH = int(input(\"English \"))\n",
    "MATHS = int(input(\"Maths \"))\n",
    "MECHANICS = int(input(\"Mechanics \"))\n",
    "PYTHON = int(input(\"Python \"))\n",
    "\n",
    "tot = ENGLISH+MATHS+MECHANICS+PYTHON\n",
    "\n",
    "print(\"The total obtained marks are:\", tot)\n",
    "\n",
    "avg = tot/4\n",
    "\n",
    "if avg>=90 :\n",
    "    print(\"GRADE - PASSED WITH DISTINCTION \")\n",
    "elif avg>=40:\n",
    "    print(\"GRADE - PASS\")\n",
    "elif avg<=40:\n",
    "    print(\"GRADE - FAIL\")"
   ]
  },
  {
   "cell_type": "code",
   "execution_count": 17,
   "metadata": {},
   "outputs": [
    {
     "name": "stdout",
     "output_type": "stream",
     "text": [
      "Please Enter the Year2077\n",
      "2077 is not a leap year\n"
     ]
    }
   ],
   "source": [
    "#Program to check if year is a leap year or not\n",
    "\n",
    "m = int(input(\"Please Enter the Year\"))\n",
    "\n",
    "if (m % 4) == 0:\n",
    "   if (m % 100) == 0:\n",
    "       if (m % 400) == 0:\n",
    "           print(\"{0} is a leap year\".format(m))\n",
    "       else:\n",
    "           print(\"{0} is not a leap year\".format(m))\n",
    "   else:\n",
    "       print(\"{0} is a leap year\".format(m))\n",
    "else:\n",
    "   print(\"{0} is not a leap year\".format(m))"
   ]
  },
  {
   "cell_type": "code",
   "execution_count": null,
   "metadata": {},
   "outputs": [],
   "source": []
  }
 ],
 "metadata": {
  "kernelspec": {
   "display_name": "Python 3",
   "language": "python",
   "name": "python3"
  },
  "language_info": {
   "codemirror_mode": {
    "name": "ipython",
    "version": 3
   },
   "file_extension": ".py",
   "mimetype": "text/x-python",
   "name": "python",
   "nbconvert_exporter": "python",
   "pygments_lexer": "ipython3",
   "version": "3.8.5"
  }
 },
 "nbformat": 4,
 "nbformat_minor": 4
}
