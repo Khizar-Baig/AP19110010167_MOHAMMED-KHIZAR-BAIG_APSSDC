{
 "cells": [
  {
   "cell_type": "code",
   "execution_count": 1,
   "metadata": {},
   "outputs": [
    {
     "name": "stdout",
     "output_type": "stream",
     "text": [
      "Enter the String ABCDEFGHIJ\n",
      "EF\n"
     ]
    }
   ],
   "source": [
    "s = input(\"Enter the String \")\n",
    "\n",
    "if (len(s)%2 == 0):\n",
    "    print(s[((len(s)//2)-1):((len(s)//2)+1)])\n",
    "else:\n",
    "    print(s[(len(s)//2)])\n",
    "      \n",
    "    \n"
   ]
  }
 ],
 "metadata": {
  "kernelspec": {
   "display_name": "Python 3",
   "language": "python",
   "name": "python3"
  },
  "language_info": {
   "codemirror_mode": {
    "name": "ipython",
    "version": 3
   },
   "file_extension": ".py",
   "mimetype": "text/x-python",
   "name": "python",
   "nbconvert_exporter": "python",
   "pygments_lexer": "ipython3",
   "version": "3.8.5"
  }
 },
 "nbformat": 4,
 "nbformat_minor": 4
}
